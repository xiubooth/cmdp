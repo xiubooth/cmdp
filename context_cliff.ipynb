{
 "cells": [
  {
   "cell_type": "code",
   "execution_count": 1,
   "metadata": {
    "tags": []
   },
   "outputs": [],
   "source": [
    "import matplotlib.pyplot as plt\n",
    "from matplotlib import animation\n",
    "import numpy as np\n",
    "import ray\n",
    "from ray.rllib.agents import ppo\n",
    "\n",
    "from mdps.cliff import ContextualCliff\n",
    "from utils.distributions import ConstantDistribution, ParticleDistribution, UniformDistribution"
   ]
  },
  {
   "cell_type": "code",
   "execution_count": 2,
   "metadata": {
    "collapsed": false,
    "jupyter": {
     "outputs_hidden": false
    },
    "pycharm": {
     "name": "#%%\n"
    }
   },
   "outputs": [],
   "source": [
    "# some utils used later\n",
    "\n",
    "def prepare_animation(bar_container_, context_history_):\n",
    "    \"\"\"Used for animated plotting sampling precedure\"\"\"\n",
    "    def animate(frame_number, data=context_history_):\n",
    "        # simulate new data coming in\n",
    "        x = data[frame_number][:, 1]\n",
    "        n, _ = np.histogram(x, HIST_BINS)\n",
    "        plt.title(f'{frame_number} posterior mean: {round(x.mean(), 5)}')\n",
    "        for count, rect in zip(n, bar_container_.patches):\n",
    "            rect.set_height(count)\n",
    "        return bar_container_.patches\n",
    "\n",
    "    return animate\n",
    "\n",
    "\n",
    "# collect expert rollout\n",
    "\n",
    "def get_rollouts(solver_, config):\n",
    "    \"\"\"Generate rollouts from a given solver and MDP(c)\"\"\"\n",
    "    env_ = ContextualCliff(config=config)\n",
    "    done_ = False\n",
    "    obs_ = env_.reset()\n",
    "    # run until episode ends\n",
    "    gt_obs_arr_ = None\n",
    "    gt_act_arr_ = None\n",
    "    while not done_:\n",
    "        action_ = solver_.compute_single_action(obs_)\n",
    "        obs_, _, done_, _ = env_.step(action_)\n",
    "        if gt_obs_arr_ is None:\n",
    "            gt_obs_arr_ = obs_\n",
    "            gt_act_arr_ = [action_]\n",
    "        else:\n",
    "            gt_obs_arr_ = np.vstack((gt_obs_arr_, obs_))\n",
    "            gt_act_arr_ += [action_]\n",
    "\n",
    "    gt_act_arr_ = np.array(gt_act_arr_)\n",
    "    return gt_obs_arr_, gt_act_arr_\n",
    "\n",
    "def plot_rollouts(gt_obs_arr_, gt_act_arr_):\n",
    "    \"\"\"Plot generated rollouts\"\"\"\n",
    "    fig_, ax_1 = plt.subplots()\n",
    "    fig_.set_size_inches(10, 6, forward=True)\n",
    "\n",
    "    x = np.arange(start=0, stop=gt_obs_arr_.shape[0])\n",
    "    ax_2 = ax_1.twinx()\n",
    "    ax_1.plot(x, gt_obs_arr_[:, 0], 'r-')\n",
    "    ax_2.plot(x, gt_act_arr_, 'b-', alpha=0.3)\n",
    "\n",
    "    ax_1.set_xlabel('time step')\n",
    "    ax_1.set_ylabel('Position (x)', color='r')\n",
    "    ax_2.set_ylabel('Action', color='b')\n",
    "    plt.title('sample observations and actions')\n",
    "    plt.show()"
   ]
  },
  {
   "cell_type": "markdown",
   "metadata": {
    "pycharm": {
     "name": "#%% md\n"
    }
   },
   "source": [
    "# Contextual \"cliff\"\n",
    "\n",
    "This notebook studies using particle filtering to estimate the context parameters of a standard `Cliff` environment in `mdps.cliff`.\n",
    "\n",
    "The `Cliff` environment has a cart that chooses either to go left or right for a `step_size`. It starts at the `mid_point` of the `right_end` and the `left_end`, and it receives a reward proportional to the power (default set to 2) of its current location, `x`. If it \"falls off the cliff\" from the left or right end, however, it receives a highly negative reward and the episode ends. Also, there are noise and drift terms, and the state-transition equation of the position `x` is (where `action` is 0 or 1 for moving left or right):\n",
    "\\\n",
    "$x_{t+1} = N(0, \\text{noise}) - \\text{drift} * x + 2 * (\\text{action}-0.5) * \\text{stepsize}$\n",
    "\n",
    "Thus, the goal of the cart is to keep its position `x` as large as possible (i.e. close to the larger end) and in the meantime keep a distance to that end to prevent accidentally falling off due to the transition noise.\n",
    "\n",
    "The context params are: `(left_bound, right_bound, pow, step_size, noise, drift)`."
   ]
  },
  {
   "cell_type": "markdown",
   "metadata": {
    "pycharm": {
     "name": "#%% md\n"
    }
   },
   "source": [
    "# Set target\n",
    "\n",
    "We first create a target config, $c$. This will be the $MDP(c)$ the expert uses to generate the observational data."
   ]
  },
  {
   "cell_type": "code",
   "execution_count": 3,
   "metadata": {
    "collapsed": false,
    "jupyter": {
     "outputs_hidden": false
    },
    "pycharm": {
     "name": "#%%\n"
    }
   },
   "outputs": [],
   "source": [
    "# true (expert) context: (left_bound, right_bound, pow, step_size, noise, drift) =\n",
    "#                         [0.0, 2.0, 2.0, 0.05, 0.05, 0.0]\n",
    "c = {'context_distribution':\n",
    "         ConstantDistribution(dim=6,\n",
    "                              constant_vector=np.array([0.0, 2, 2, 0.05, 0.05, 0.0]))}"
   ]
  },
  {
   "cell_type": "markdown",
   "metadata": {
    "pycharm": {
     "name": "#%% md\n"
    }
   },
   "source": [
    "First, train an expert that masters this context."
   ]
  },
  {
   "cell_type": "code",
   "execution_count": 4,
   "metadata": {
    "collapsed": false,
    "jupyter": {
     "outputs_hidden": false
    },
    "pycharm": {
     "name": "#%%\n"
    }
   },
   "outputs": [
    {
     "name": "stderr",
     "output_type": "stream",
     "text": [
      "2022-02-15 15:22:36,530\tINFO services.py:1340 -- View the Ray dashboard at \u001B[1m\u001B[32mhttp://127.0.0.1:8265\u001B[39m\u001B[22m\n",
      "2022-02-15 15:22:37,581\tINFO ppo.py:167 -- In multi-agent mode, policies will be optimized sequentially by the multi-GPU optimizer. Consider setting simple_optimizer=True if this doesn't work for you.\n",
      "2022-02-15 15:22:37,582\tINFO trainer.py:745 -- Current log_level is WARN. For more information, set 'log_level': 'INFO' / 'DEBUG' or use the -v and -vv flags.\n",
      "2022-02-15 15:22:39,026\tWARNING util.py:57 -- Install gputil for GPU system monitoring.\n"
     ]
    },
    {
     "name": "stdout",
     "output_type": "stream",
     "text": [
      "0 -88.66576244337308\n",
      "5 67.13376214381836\n",
      "10 136.99750818077538\n",
      "15 141.98826132903562\n",
      "20 148.1049628828176\n"
     ]
    }
   ],
   "source": [
    "ray.shutdown()\n",
    "ray.init()\n",
    "expert = ppo.PPOTrainer(env=ContextualCliff, config={\n",
    "    \"env_config\": c,\n",
    "    \"framework\": \"torch\",  # config to pass to env class\n",
    "})\n",
    "\n",
    "rews = []\n",
    "for eps in range(25):\n",
    "    res = expert.train()\n",
    "    if eps % 5 == 0:\n",
    "        print(eps, res['episode_reward_mean'])\n",
    "    rews += [res['episode_reward_mean']]"
   ]
  },
  {
   "cell_type": "code",
   "execution_count": 14,
   "metadata": {
    "collapsed": false,
    "jupyter": {
     "outputs_hidden": false
    },
    "pycharm": {
     "name": "#%%\n"
    }
   },
   "outputs": [],
   "source": [
    "# collect expert rollout\n",
    "gt_obs_arr, gt_act_arr = get_rollouts(expert, config=c)"
   ]
  },
  {
   "cell_type": "code",
   "execution_count": 15,
   "metadata": {
    "collapsed": false,
    "jupyter": {
     "outputs_hidden": false
    },
    "pycharm": {
     "name": "#%%\n"
    }
   },
   "outputs": [
    {
     "data": {
      "text/plain": "<Figure size 720x432 with 2 Axes>",
      "image/png": "[encoded data removed]"
     },
     "metadata": {
      "needs_background": "light"
     },
     "output_type": "display_data"
    }
   ],
   "source": [
    "plot_rollouts(gt_obs_arr, gt_act_arr)"
   ]
  },
  {
   "cell_type": "code",
   "execution_count": 19,
   "outputs": [],
   "source": [
    "np.save(\"gtobs.npy\", gt_obs_arr)\n",
    "np.save(\"gtact.npy\", gt_act_arr)"
   ],
   "metadata": {
    "collapsed": false,
    "pycharm": {
     "name": "#%%\n"
    }
   }
  },
  {
   "cell_type": "code",
   "execution_count": 3,
   "outputs": [],
   "source": [
    "gt_act_arr = np.load(\"gtact.npy\")\n",
    "gt_obs_arr = np.load(\"gtobs.npy\")"
   ],
   "metadata": {
    "collapsed": false,
    "pycharm": {
     "name": "#%%\n"
    }
   }
  },
  {
   "cell_type": "markdown",
   "metadata": {
    "pycharm": {
     "name": "#%% md\n"
    }
   },
   "source": [
    "## Exact context\n",
    "\n",
    "We first train a RL solver only on the correct context for particle filtering. We have already done this so we can directly use the expert solver."
   ]
  },
  {
   "cell_type": "code",
   "execution_count": 4,
   "metadata": {
    "collapsed": false,
    "jupyter": {
     "outputs_hidden": false
    },
    "pycharm": {
     "name": "#%%\n"
    }
   },
   "outputs": [],
   "source": [
    "# true (expert) context: (left_bound, right_bound, pow, step_size, noise, drift) =\n",
    "#                       [0.0, 2.0, 2.0, 0.025, 0.05, 0.0]\n",
    "\n",
    "N = 1000\n",
    "T = 100\n",
    "left_bound = np.ones((N,)) * 0.0\n",
    "pow = np.ones((N,)) * 2\n",
    "drift = np.random.normal(loc=0.00, scale=0.001, size=(N,))\n",
    "step_size = np.ones((N,)) * 0.025"
   ]
  },
  {
   "cell_type": "code",
   "execution_count": 5,
   "metadata": {
    "collapsed": false,
    "jupyter": {
     "outputs_hidden": false
    },
    "pycharm": {
     "name": "#%%\n"
    }
   },
   "outputs": [],
   "source": [
    "def filter_context(solver_,\n",
    "                   context_distribution_,\n",
    "                   gt_obs_arr_,\n",
    "                   T_,\n",
    "                   N_\n",
    "                   ):\n",
    "    state_arr_ = np.zeros((N_,))\n",
    "    action_arr_ = np.zeros((N_,))\n",
    "    context_history_ = []\n",
    "    for t_ in range(T_):\n",
    "        # we only use the first 5 steps of the cartpole steps to reduce effect of different episode lengths\n",
    "        qs_ = np.zeros((N_,))\n",
    "        for n_ in range(N_):\n",
    "            context_ = context_distribution_.particles[n_]\n",
    "            c_local_ = {'context_distribution':\n",
    "                           ConstantDistribution(dim=6,\n",
    "                                                constant_vector=context_)}\n",
    "            env_ = ContextualCliff(config=c_local_)\n",
    "            obs_ = env_.reset()\n",
    "            if t_ > 0:\n",
    "                env_.mdp.x = state_arr_[n_]\n",
    "                obs_ = np.concatenate((np.array([env_.mdp.x]), context_), axis=0).flatten()\n",
    "            action_ = solver_.compute_single_action(obs_)\n",
    "            obs_, _, done_, _ = env_.step(action_)\n",
    "            # estimate likelihood if r >= 1\n",
    "            if t_ >= 1:\n",
    "                q = env_.likelihood(gt_obs_arr_[t_ - 1], action_arr_[n_], obs_)\n",
    "                qs_[n_] = q\n",
    "            state_arr_[n_] = np.copy(env_.mdp.x)\n",
    "            action_arr_[n_] = action_\n",
    "        if t_ >= 1:\n",
    "            # truncated importance sampling; [https://arxiv.org/pdf/1905.09800.pdf]\n",
    "            qs_ = np.clip(qs_, 0, np.percentile(qs_, 90))\n",
    "            qs_ = qs_ / qs_.sum()\n",
    "            resample_index_ = context_distribution_.resample_particles_from_probability(p=qs_)\n",
    "            p_temp_ = context_distribution_.particles\n",
    "            p_noise_ = np.random.normal(loc=0, scale=p_temp_.std(axis=0), size=p_temp_.shape) * 0.05\n",
    "            context_distribution_.particles += p_noise_\n",
    "            state_arr_ = state_arr_[resample_index_]\n",
    "            action_arr_ = action_arr_[resample_index_]\n",
    "        if t_ % 25 == 0:\n",
    "            print(\"round\", t_, \"posterior mean\", context_distribution_.particles[:, 1].mean())\n",
    "        context_history_ += [context_distribution_.particles.copy()]\n",
    "    return context_history_, context_distribution_"
   ]
  },
  {
   "cell_type": "code",
   "execution_count": null,
   "metadata": {
    "collapsed": false,
    "jupyter": {
     "outputs_hidden": false
    },
    "pycharm": {
     "name": "#%%\n"
    }
   },
   "outputs": [],
   "source": [
    "right_bound = np.random.normal(loc=2.5, scale=0.5, size=(N,))\n",
    "noise = np.ones((N,)) * 0.05\n",
    "\n",
    "context_particles = np.abs(np.vstack((left_bound, right_bound, pow, step_size, noise, drift)).T)\n",
    "context_distribution = ParticleDistribution(dim=6, particles=context_particles, n_particles=N)\n",
    "\n",
    "context_history_exact, _ = filter_context(expert,\n",
    "                                   context_distribution,\n",
    "                                   gt_obs_arr,\n",
    "                                   T,\n",
    "                                   N\n",
    "                                   )"
   ]
  },
  {
   "cell_type": "code",
   "execution_count": null,
   "metadata": {
    "collapsed": false,
    "jupyter": {
     "outputs_hidden": false
    },
    "pycharm": {
     "name": "#%%\n"
    }
   },
   "outputs": [],
   "source": [
    "HIST_BINS = np.linspace(1, 3, 120)\n",
    "\n",
    "fig, ax = plt.subplots()\n",
    "plt.axvline(x=2.0, alpha=0.3, color='black', linestyle='--')\n",
    "plt.legend(['ground truth: 2.0'])\n",
    "_, _, bar_container = ax.hist(context_history_exact[0][:, 1], HIST_BINS, lw=1,\n",
    "                              ec=\"cyan\", fc=\"blue\", alpha=0.5)\n",
    "ax.set_ylim(top=N / 4)  # set safe limit to ensure that all data is visible.\n",
    "\n",
    "ani = animation.FuncAnimation(fig, prepare_animation(bar_container, context_history_exact),\n",
    "                              len(context_history_exact),\n",
    "                              repeat=True, blit=False, interval=100, repeat_delay=500)\n",
    "prior_mean = 2.5\n",
    "posterior_mean = round(context_history_exact[-1][:, 1].mean(), 3)\n",
    "ani.save(f'prior_{prior_mean}_posterior{posterior_mean}.mp4', dpi=300)\n",
    "plt.show()"
   ]
  },
  {
   "cell_type": "code",
   "execution_count": null,
   "metadata": {
    "collapsed": false,
    "jupyter": {
     "outputs_hidden": false
    },
    "pycharm": {
     "name": "#%%\n"
    }
   },
   "outputs": [],
   "source": [
    "fig, ax = plt.subplots()\n",
    "HIST_BINS = np.linspace(1, 4, 80)\n",
    "ax.hist(context_history_exact[0][:, 1], HIST_BINS, lw=1,\n",
    "        ec=\"blue\", fc=\"blue\", alpha=0.5)\n",
    "ax.hist(context_history_exact[-1][:, 1], HIST_BINS, lw=1,\n",
    "        ec=\"red\", fc=\"red\", alpha=0.5)\n",
    "plt.axvline(x=2, alpha=0.3, color='black', linestyle='--')\n",
    "plt.legend(['ground truth: 2.0', 'prior', 'posterior'])\n",
    "ax.set_ylim(top=N / 5)\n",
    "fig.set_size_inches(12, 8)\n",
    "plt.title('solver trained in exactly specified context')\n",
    "plt.show()"
   ]
  },
  {
   "cell_type": "markdown",
   "metadata": {},
   "source": []
  },
  {
   "cell_type": "code",
   "execution_count": null,
   "metadata": {
    "collapsed": false,
    "jupyter": {
     "outputs_hidden": false
    },
    "pycharm": {
     "name": "#%%\n"
    }
   },
   "outputs": [],
   "source": [
    "# We reduce the right end from 2.0 to 1.5 and keep otherwise the same.\n",
    "c_mis = {'context_distribution':\n",
    "             ConstantDistribution(dim=5,\n",
    "                                  constant_vector=np.array([0.0, 1.5, 2.0, 0.025, 0.05, 0.0]))}\n",
    "\n",
    "ray.shutdown()\n",
    "ray.init()\n",
    "mis_solver = ppo.PPOTrainer(env=ContextualCliff, config={\n",
    "    \"env_config\": c_mis,\n",
    "    \"framework\": \"torch\",  # config to pass to env class\n",
    "})\n",
    "\n",
    "for eps in range(25):\n",
    "    res = mis_solver.train()\n",
    "    if eps % 5 == 0:\n",
    "        print(eps, res['episode_reward_mean'])"
   ]
  },
  {
   "cell_type": "code",
   "execution_count": null,
   "metadata": {
    "collapsed": false,
    "jupyter": {
     "outputs_hidden": false
    },
    "pycharm": {
     "name": "#%%\n"
    }
   },
   "outputs": [],
   "source": [
    "mis_obs_arr, mis_act_arr = get_rollouts(mis_solver, config=c)\n",
    "plot_rollouts(mis_obs_arr, mis_act_arr)"
   ]
  },
  {
   "cell_type": "code",
   "execution_count": null,
   "metadata": {
    "collapsed": false,
    "jupyter": {
     "outputs_hidden": false
    },
    "pycharm": {
     "name": "#%%\n"
    }
   },
   "outputs": [],
   "source": [
    "# true (expert) context: (left_bound, right_bound, pow, step_size, noise, drift) =\n",
    "#                       [0.0, 3.0, 2.0, 0.025, 0.05, 0.0]\n",
    "\n",
    "right_bound = np.random.normal(loc=2.5, scale=0.5, size=(N,))\n",
    "noise = np.ones((N,)) * 0.05\n",
    "\n",
    "context_particles = np.abs(np.vstack((left_bound, right_bound, pow, step_size, noise, drift)).T)\n",
    "context_distribution = ParticleDistribution(dim=6, particles=context_particles, n_particles=N)\n",
    "\n",
    "context_history_mis, _ = filter_context(mis_solver,\n",
    "                                       context_distribution,\n",
    "                                       gt_obs_arr,\n",
    "                                       T,\n",
    "                                       N\n",
    "                                       )"
   ]
  },
  {
   "cell_type": "code",
   "execution_count": null,
   "metadata": {
    "collapsed": false,
    "jupyter": {
     "outputs_hidden": false
    },
    "pycharm": {
     "name": "#%%\n"
    }
   },
   "outputs": [],
   "source": [
    "fig, ax = plt.subplots()\n",
    "HIST_BINS = np.linspace(1, 5, 80)\n",
    "ax.hist(context_history_mis[0][:, 1], HIST_BINS, lw=1,\n",
    "        ec=\"blue\", fc=\"blue\", alpha=0.5)\n",
    "ax.hist(context_history_mis[-1][:, 1], HIST_BINS, lw=1,\n",
    "        ec=\"red\", fc=\"red\", alpha=0.5)\n",
    "plt.axvline(x=2, alpha=0.3, color='black', linestyle='--')\n",
    "plt.legend(['ground truth: 2.0', 'prior', 'posterior'])\n",
    "ax.set_ylim(top=N / 5)\n",
    "fig.set_size_inches(12, 8)\n",
    "plt.title('solver trained in mis-specified context')\n",
    "plt.show()"
   ]
  },
  {
   "cell_type": "markdown",
   "metadata": {
    "pycharm": {
     "name": "#%% md\n"
    }
   },
   "source": [
    "# Uniformly sampled context\n",
    "\n",
    "We uniformly sample contexts during training, a common way to perform domain randomization."
   ]
  },
  {
   "cell_type": "code",
   "execution_count": 11,
   "metadata": {
    "collapsed": false,
    "jupyter": {
     "outputs_hidden": false
    },
    "pycharm": {
     "name": "#%%\n"
    }
   },
   "outputs": [],
   "source": [
    "c_uniform = {'context_distribution':\n",
    "             UniformDistribution(dim=6,\n",
    "                              lower_bound_vector=np.array([0.0, 1.0, 2, 0.05, 0.05, 0.0]),\n",
    "                              upper_bound_vector=np.array([0.0, 3.0, 2, 0.05, 0.05, 0.0]))}"
   ]
  },
  {
   "cell_type": "code",
   "execution_count": 12,
   "metadata": {
    "collapsed": false,
    "jupyter": {
     "outputs_hidden": false
    },
    "pycharm": {
     "name": "#%%\n"
    }
   },
   "outputs": [
    {
     "ename": "RuntimeError",
     "evalue": "Couldn't start Redis. Check log files: /tmp/ray/session_2022-02-15_15-20-49_234319_2108/logs/redis.out /tmp/ray/session_2022-02-15_15-20-49_234319_2108/logs/redis.err",
     "output_type": "error",
     "traceback": [
      "\u001B[0;31m---------------------------------------------------------------------------\u001B[0m",
      "\u001B[0;31mRuntimeError\u001B[0m                              Traceback (most recent call last)",
      "\u001B[0;32m/var/folders/7c/83j6c6y52zg0msrtszdsy2yc0000gn/T/ipykernel_2108/2928687935.py\u001B[0m in \u001B[0;36m<module>\u001B[0;34m\u001B[0m\n\u001B[1;32m      1\u001B[0m \u001B[0mray\u001B[0m\u001B[0;34m.\u001B[0m\u001B[0mshutdown\u001B[0m\u001B[0;34m(\u001B[0m\u001B[0;34m)\u001B[0m\u001B[0;34m\u001B[0m\u001B[0;34m\u001B[0m\u001B[0m\n\u001B[0;32m----> 2\u001B[0;31m \u001B[0mray\u001B[0m\u001B[0;34m.\u001B[0m\u001B[0minit\u001B[0m\u001B[0;34m(\u001B[0m\u001B[0;34m)\u001B[0m\u001B[0;34m\u001B[0m\u001B[0;34m\u001B[0m\u001B[0m\n\u001B[0m\u001B[1;32m      3\u001B[0m uniform_solver = ppo.PPOTrainer(env=ContextualCliff, config={\n\u001B[1;32m      4\u001B[0m                                                     \u001B[0;34m\"env_config\"\u001B[0m\u001B[0;34m:\u001B[0m \u001B[0mc_uniform\u001B[0m\u001B[0;34m,\u001B[0m\u001B[0;34m\u001B[0m\u001B[0;34m\u001B[0m\u001B[0m\n\u001B[1;32m      5\u001B[0m                                                     \u001B[0;34m\"framework\"\u001B[0m\u001B[0;34m:\u001B[0m \u001B[0;34m\"torch\"\u001B[0m\u001B[0;34m,\u001B[0m  \u001B[0;31m# config to pass to env class\u001B[0m\u001B[0;34m\u001B[0m\u001B[0;34m\u001B[0m\u001B[0m\n",
      "\u001B[0;32m~/opt/miniconda3/envs/drl/lib/python3.7/site-packages/ray/_private/client_mode_hook.py\u001B[0m in \u001B[0;36mwrapper\u001B[0;34m(*args, **kwargs)\u001B[0m\n\u001B[1;32m    103\u001B[0m             \u001B[0;32mif\u001B[0m \u001B[0mfunc\u001B[0m\u001B[0;34m.\u001B[0m\u001B[0m__name__\u001B[0m \u001B[0;34m!=\u001B[0m \u001B[0;34m\"init\"\u001B[0m \u001B[0;32mor\u001B[0m \u001B[0mis_client_mode_enabled_by_default\u001B[0m\u001B[0;34m:\u001B[0m\u001B[0;34m\u001B[0m\u001B[0;34m\u001B[0m\u001B[0m\n\u001B[1;32m    104\u001B[0m                 \u001B[0;32mreturn\u001B[0m \u001B[0mgetattr\u001B[0m\u001B[0;34m(\u001B[0m\u001B[0mray\u001B[0m\u001B[0;34m,\u001B[0m \u001B[0mfunc\u001B[0m\u001B[0;34m.\u001B[0m\u001B[0m__name__\u001B[0m\u001B[0;34m)\u001B[0m\u001B[0;34m(\u001B[0m\u001B[0;34m*\u001B[0m\u001B[0margs\u001B[0m\u001B[0;34m,\u001B[0m \u001B[0;34m**\u001B[0m\u001B[0mkwargs\u001B[0m\u001B[0;34m)\u001B[0m\u001B[0;34m\u001B[0m\u001B[0;34m\u001B[0m\u001B[0m\n\u001B[0;32m--> 105\u001B[0;31m         \u001B[0;32mreturn\u001B[0m \u001B[0mfunc\u001B[0m\u001B[0;34m(\u001B[0m\u001B[0;34m*\u001B[0m\u001B[0margs\u001B[0m\u001B[0;34m,\u001B[0m \u001B[0;34m**\u001B[0m\u001B[0mkwargs\u001B[0m\u001B[0;34m)\u001B[0m\u001B[0;34m\u001B[0m\u001B[0;34m\u001B[0m\u001B[0m\n\u001B[0m\u001B[1;32m    106\u001B[0m \u001B[0;34m\u001B[0m\u001B[0m\n\u001B[1;32m    107\u001B[0m     \u001B[0;32mreturn\u001B[0m \u001B[0mwrapper\u001B[0m\u001B[0;34m\u001B[0m\u001B[0;34m\u001B[0m\u001B[0m\n",
      "\u001B[0;32m~/opt/miniconda3/envs/drl/lib/python3.7/site-packages/ray/worker.py\u001B[0m in \u001B[0;36minit\u001B[0;34m(address, num_cpus, num_gpus, resources, object_store_memory, local_mode, ignore_reinit_error, include_dashboard, dashboard_host, dashboard_port, job_config, configure_logging, logging_level, logging_format, log_to_driver, namespace, runtime_env, _enable_object_reconstruction, _redis_max_memory, _plasma_directory, _node_ip_address, _driver_object_store_memory, _memory, _redis_password, _temp_dir, _metrics_export_port, _system_config, _tracing_startup_hook, **kwargs)\u001B[0m\n\u001B[1;32m    910\u001B[0m             \u001B[0mshutdown_at_exit\u001B[0m\u001B[0;34m=\u001B[0m\u001B[0;32mFalse\u001B[0m\u001B[0;34m,\u001B[0m\u001B[0;34m\u001B[0m\u001B[0;34m\u001B[0m\u001B[0m\n\u001B[1;32m    911\u001B[0m             \u001B[0mspawn_reaper\u001B[0m\u001B[0;34m=\u001B[0m\u001B[0;32mTrue\u001B[0m\u001B[0;34m,\u001B[0m\u001B[0;34m\u001B[0m\u001B[0;34m\u001B[0m\u001B[0m\n\u001B[0;32m--> 912\u001B[0;31m             ray_params=ray_params)\n\u001B[0m\u001B[1;32m    913\u001B[0m     \u001B[0;32melse\u001B[0m\u001B[0;34m:\u001B[0m\u001B[0;34m\u001B[0m\u001B[0;34m\u001B[0m\u001B[0m\n\u001B[1;32m    914\u001B[0m         \u001B[0;31m# In this case, we are connecting to an existing cluster.\u001B[0m\u001B[0;34m\u001B[0m\u001B[0;34m\u001B[0m\u001B[0;34m\u001B[0m\u001B[0m\n",
      "\u001B[0;32m~/opt/miniconda3/envs/drl/lib/python3.7/site-packages/ray/node.py\u001B[0m in \u001B[0;36m__init__\u001B[0;34m(self, ray_params, head, shutdown_at_exit, spawn_reaper, connect_only)\u001B[0m\n\u001B[1;32m    213\u001B[0m         \u001B[0;31m# Start processes.\u001B[0m\u001B[0;34m\u001B[0m\u001B[0;34m\u001B[0m\u001B[0;34m\u001B[0m\u001B[0m\n\u001B[1;32m    214\u001B[0m         \u001B[0;32mif\u001B[0m \u001B[0mhead\u001B[0m\u001B[0;34m:\u001B[0m\u001B[0;34m\u001B[0m\u001B[0;34m\u001B[0m\u001B[0m\n\u001B[0;32m--> 215\u001B[0;31m             \u001B[0mself\u001B[0m\u001B[0;34m.\u001B[0m\u001B[0mstart_head_processes\u001B[0m\u001B[0;34m(\u001B[0m\u001B[0;34m)\u001B[0m\u001B[0;34m\u001B[0m\u001B[0;34m\u001B[0m\u001B[0m\n\u001B[0m\u001B[1;32m    216\u001B[0m             \u001B[0;31m# Make sure gcs is up\u001B[0m\u001B[0;34m\u001B[0m\u001B[0;34m\u001B[0m\u001B[0;34m\u001B[0m\u001B[0m\n\u001B[1;32m    217\u001B[0m             self.get_gcs_client().internal_kv_put(\n",
      "\u001B[0;32m~/opt/miniconda3/envs/drl/lib/python3.7/site-packages/ray/node.py\u001B[0m in \u001B[0;36mstart_head_processes\u001B[0;34m(self)\u001B[0m\n\u001B[1;32m    900\u001B[0m         \u001B[0;32massert\u001B[0m \u001B[0mself\u001B[0m\u001B[0;34m.\u001B[0m\u001B[0m_redis_address\u001B[0m \u001B[0;32mis\u001B[0m \u001B[0;32mNone\u001B[0m\u001B[0;34m\u001B[0m\u001B[0;34m\u001B[0m\u001B[0m\n\u001B[1;32m    901\u001B[0m         \u001B[0;31m# If this is the head node, start the relevant head node processes.\u001B[0m\u001B[0;34m\u001B[0m\u001B[0;34m\u001B[0m\u001B[0;34m\u001B[0m\u001B[0m\n\u001B[0;32m--> 902\u001B[0;31m         \u001B[0mself\u001B[0m\u001B[0;34m.\u001B[0m\u001B[0mstart_redis\u001B[0m\u001B[0;34m(\u001B[0m\u001B[0;34m)\u001B[0m\u001B[0;34m\u001B[0m\u001B[0;34m\u001B[0m\u001B[0m\n\u001B[0m\u001B[1;32m    903\u001B[0m \u001B[0;34m\u001B[0m\u001B[0m\n\u001B[1;32m    904\u001B[0m         \u001B[0mself\u001B[0m\u001B[0;34m.\u001B[0m\u001B[0mstart_gcs_server\u001B[0m\u001B[0;34m(\u001B[0m\u001B[0;34m)\u001B[0m\u001B[0;34m\u001B[0m\u001B[0;34m\u001B[0m\u001B[0m\n",
      "\u001B[0;32m~/opt/miniconda3/envs/drl/lib/python3.7/site-packages/ray/node.py\u001B[0m in \u001B[0;36mstart_redis\u001B[0;34m(self)\u001B[0m\n\u001B[1;32m    715\u001B[0m              \u001B[0mfate_share\u001B[0m\u001B[0;34m=\u001B[0m\u001B[0mself\u001B[0m\u001B[0;34m.\u001B[0m\u001B[0mkernel_fate_share\u001B[0m\u001B[0;34m,\u001B[0m\u001B[0;34m\u001B[0m\u001B[0;34m\u001B[0m\u001B[0m\n\u001B[1;32m    716\u001B[0m              \u001B[0mexternal_addresses\u001B[0m\u001B[0;34m=\u001B[0m\u001B[0mself\u001B[0m\u001B[0;34m.\u001B[0m\u001B[0m_ray_params\u001B[0m\u001B[0;34m.\u001B[0m\u001B[0mexternal_addresses\u001B[0m\u001B[0;34m,\u001B[0m\u001B[0;34m\u001B[0m\u001B[0;34m\u001B[0m\u001B[0m\n\u001B[0;32m--> 717\u001B[0;31m              port_denylist=self._ray_params.reserved_ports)\n\u001B[0m\u001B[1;32m    718\u001B[0m         assert (\n\u001B[1;32m    719\u001B[0m             ray_constants.PROCESS_TYPE_REDIS_SERVER not in self.all_processes)\n",
      "\u001B[0;32m~/opt/miniconda3/envs/drl/lib/python3.7/site-packages/ray/_private/services.py\u001B[0m in \u001B[0;36mstart_redis\u001B[0;34m(node_ip_address, redirect_files, resource_spec, port, redis_shard_ports, num_redis_shards, redis_max_clients, redirect_worker_output, password, fate_share, external_addresses, port_denylist)\u001B[0m\n\u001B[1;32m    940\u001B[0m             \u001B[0mfate_share\u001B[0m\u001B[0;34m=\u001B[0m\u001B[0mfate_share\u001B[0m\u001B[0;34m,\u001B[0m\u001B[0;34m\u001B[0m\u001B[0;34m\u001B[0m\u001B[0m\n\u001B[1;32m    941\u001B[0m             \u001B[0mport_denylist\u001B[0m\u001B[0;34m=\u001B[0m\u001B[0mport_denylist\u001B[0m\u001B[0;34m,\u001B[0m\u001B[0;34m\u001B[0m\u001B[0;34m\u001B[0m\u001B[0m\n\u001B[0;32m--> 942\u001B[0;31m             listen_to_localhost_only=(node_ip_address == \"127.0.0.1\"))\n\u001B[0m\u001B[1;32m    943\u001B[0m         \u001B[0mprocesses\u001B[0m\u001B[0;34m.\u001B[0m\u001B[0mappend\u001B[0m\u001B[0;34m(\u001B[0m\u001B[0mp\u001B[0m\u001B[0;34m)\u001B[0m\u001B[0;34m\u001B[0m\u001B[0;34m\u001B[0m\u001B[0m\n\u001B[1;32m    944\u001B[0m         \u001B[0mredis_address\u001B[0m \u001B[0;34m=\u001B[0m \u001B[0maddress\u001B[0m\u001B[0;34m(\u001B[0m\u001B[0mnode_ip_address\u001B[0m\u001B[0;34m,\u001B[0m \u001B[0mport\u001B[0m\u001B[0;34m)\u001B[0m\u001B[0;34m\u001B[0m\u001B[0;34m\u001B[0m\u001B[0m\n",
      "\u001B[0;32m~/opt/miniconda3/envs/drl/lib/python3.7/site-packages/ray/_private/services.py\u001B[0m in \u001B[0;36m_start_redis_instance\u001B[0;34m(executable, port, redis_max_clients, num_retries, stdout_file, stderr_file, password, redis_max_memory, fate_share, port_denylist, listen_to_localhost_only)\u001B[0m\n\u001B[1;32m   1089\u001B[0m                                \u001B[0mstdout_file\u001B[0m\u001B[0;34m.\u001B[0m\u001B[0mname\u001B[0m \u001B[0;32mif\u001B[0m \u001B[0mstdout_file\u001B[0m \u001B[0;32mis\u001B[0m \u001B[0;32mnot\u001B[0m \u001B[0;32mNone\u001B[0m \u001B[0;32melse\u001B[0m\u001B[0;34m\u001B[0m\u001B[0;34m\u001B[0m\u001B[0m\n\u001B[1;32m   1090\u001B[0m                                \u001B[0;34m\"<stdout>\"\u001B[0m\u001B[0;34m,\u001B[0m \u001B[0mstderr_file\u001B[0m\u001B[0;34m.\u001B[0m\u001B[0mname\u001B[0m\u001B[0;34m\u001B[0m\u001B[0;34m\u001B[0m\u001B[0m\n\u001B[0;32m-> 1091\u001B[0;31m                                if stdout_file is not None else \"<stderr>\"))\n\u001B[0m\u001B[1;32m   1092\u001B[0m \u001B[0;34m\u001B[0m\u001B[0m\n\u001B[1;32m   1093\u001B[0m     \u001B[0;31m# Create a Redis client just for configuring Redis.\u001B[0m\u001B[0;34m\u001B[0m\u001B[0;34m\u001B[0m\u001B[0;34m\u001B[0m\u001B[0m\n",
      "\u001B[0;31mRuntimeError\u001B[0m: Couldn't start Redis. Check log files: /tmp/ray/session_2022-02-15_15-20-49_234319_2108/logs/redis.out /tmp/ray/session_2022-02-15_15-20-49_234319_2108/logs/redis.err"
     ]
    }
   ],
   "source": [
    "ray.shutdown()\n",
    "ray.init()\n",
    "uniform_solver = ppo.PPOTrainer(env=ContextualCliff, config={\n",
    "                                                    \"env_config\": c_uniform,\n",
    "                                                    \"framework\": \"torch\",  # config to pass to env class\n",
    "                                                })\n",
    "\n",
    "rews = []\n",
    "for eps in range(25):\n",
    "    res = uniform_solver.train()\n",
    "    if eps % 5 == 0:\n",
    "        print(eps, res['episode_reward_mean'])\n",
    "    rews += [res['episode_reward_mean']]"
   ]
  },
  {
   "cell_type": "code",
   "execution_count": null,
   "metadata": {
    "collapsed": false,
    "jupyter": {
     "outputs_hidden": false
    },
    "pycharm": {
     "name": "#%%\n"
    }
   },
   "outputs": [],
   "source": [
    "plot_rollouts(*get_rollouts(uniform_solver,\n",
    "                           config={'context_distribution':\n",
    "                                    ConstantDistribution(dim=5,\n",
    "                                    constant_vector=np.array([0.0, 1.5, 2.0, 0.05, 0.05, 0.0]))}))"
   ]
  },
  {
   "cell_type": "code",
   "execution_count": null,
   "metadata": {
    "collapsed": false,
    "jupyter": {
     "outputs_hidden": false
    },
    "pycharm": {
     "name": "#%%\n"
    }
   },
   "outputs": [],
   "source": [
    "plot_rollouts(*get_rollouts(uniform_solver,\n",
    "                           config={'context_distribution':\n",
    "                                    ConstantDistribution(dim=5,\n",
    "                                    constant_vector=np.array([0.0, 2.5, 2.0, 0.05, 0.05, 0.0]))}))"
   ]
  },
  {
   "cell_type": "code",
   "execution_count": null,
   "metadata": {
    "collapsed": false,
    "jupyter": {
     "outputs_hidden": false
    },
    "pycharm": {
     "name": "#%%\n"
    }
   },
   "outputs": [],
   "source": [
    "right_bound = np.random.normal(loc=2.5, scale=0.5, size=(N,))\n",
    "noise = np.ones((N,)) * 0.05\n",
    "\n",
    "context_particles = np.abs(np.vstack((left_bound, right_bound, pow, step_size, noise, drift)).T)\n",
    "context_distribution = ParticleDistribution(dim=6, particles=context_particles, n_particles=N)\n",
    "\n",
    "context_history_uniform = filter_context(uniform_solver,\n",
    "                                           context_distribution,\n",
    "                                           gt_obs_arr,\n",
    "                                           T,\n",
    "                                           N\n",
    "                                           )"
   ]
  },
  {
   "cell_type": "code",
   "execution_count": null,
   "metadata": {
    "collapsed": false,
    "jupyter": {
     "outputs_hidden": false
    },
    "pycharm": {
     "name": "#%%\n"
    }
   },
   "outputs": [],
   "source": [
    "fig, ax = plt.subplots()\n",
    "HIST_BINS = np.linspace(1, 4, 80)\n",
    "ax.hist(context_history_uniform[0][:, 1], HIST_BINS, lw=1,\n",
    "        ec=\"blue\", fc=\"blue\", alpha=0.5)\n",
    "ax.hist(context_history_uniform[-1][:, 1], HIST_BINS, lw=1,\n",
    "        ec=\"red\", fc=\"red\", alpha=0.5)\n",
    "plt.axvline(x=2, alpha=0.3, color='black', linestyle='--')\n",
    "plt.legend(['ground truth: 2.0', 'prior', 'posterior'])\n",
    "ax.set_ylim(top=N / 5)\n",
    "fig.set_size_inches(12, 8)\n",
    "plt.title('solver trained in uniformly sampled context')\n",
    "plt.show()"
   ]
  },
  {
   "cell_type": "markdown",
   "metadata": {
    "pycharm": {
     "name": "#%% md\n"
    },
    "tags": []
   },
   "source": [
    "# Importance sampling for context\n",
    "\n",
    "We do training - PF filtering update - training loop."
   ]
  },
  {
   "cell_type": "code",
   "execution_count": 6,
   "metadata": {},
   "outputs": [
    {
     "name": "stderr",
     "output_type": "stream",
     "text": [
      "2022-02-15 16:03:33,701\tINFO services.py:1340 -- View the Ray dashboard at \u001B[1m\u001B[32mhttp://127.0.0.1:8265\u001B[39m\u001B[22m\n",
      "2022-02-15 16:03:34,714\tINFO ppo.py:167 -- In multi-agent mode, policies will be optimized sequentially by the multi-GPU optimizer. Consider setting simple_optimizer=True if this doesn't work for you.\n",
      "2022-02-15 16:03:34,715\tINFO trainer.py:745 -- Current log_level is WARN. For more information, set 'log_level': 'INFO' / 'DEBUG' or use the -v and -vv flags.\n",
      "2022-02-15 16:03:36,090\tWARNING util.py:57 -- Install gputil for GPU system monitoring.\n"
     ]
    },
    {
     "name": "stdout",
     "output_type": "stream",
     "text": [
      "round 0 posterior mean 2.910317114527295\n",
      "round 25 posterior mean 3.231093370868455\n",
      "round 50 posterior mean 3.0246796856279157\n",
      "round 75 posterior mean 2.268511360021181\n"
     ]
    },
    {
     "data": {
      "text/plain": "<Figure size 864x576 with 1 Axes>",
      "image/png": "[encoded data removed]"
     },
     "metadata": {
      "needs_background": "light"
     },
     "output_type": "display_data"
    },
    {
     "name": "stdout",
     "output_type": "stream",
     "text": [
      "round 0 posterior mean 2.1903718148186853\n",
      "round 25 posterior mean 2.274505710946588\n",
      "round 50 posterior mean 2.203005243348516\n",
      "round 75 posterior mean 2.1668006328212934\n"
     ]
    },
    {
     "data": {
      "text/plain": "<Figure size 864x576 with 1 Axes>",
      "image/png": "[encoded data removed]"
     },
     "metadata": {
      "needs_background": "light"
     },
     "output_type": "display_data"
    },
    {
     "name": "stdout",
     "output_type": "stream",
     "text": [
      "round 0 posterior mean 2.1558105813811985\n",
      "round 25 posterior mean 2.1515946659641094\n",
      "round 50 posterior mean 2.1389934013258616\n",
      "round 75 posterior mean 2.134526022982813\n"
     ]
    },
    {
     "data": {
      "text/plain": "<Figure size 864x576 with 1 Axes>",
      "image/png": "[encoded data removed]"
     },
     "metadata": {
      "needs_background": "light"
     },
     "output_type": "display_data"
    }
   ],
   "source": [
    "# Initialize uniform prior of right_bound\n",
    "\n",
    "right_bound = np.random.uniform(1, 5, size=(N,))\n",
    "noise = np.ones((N,)) * 0.05\n",
    "\n",
    "prior_context_particles = np.abs(np.vstack((left_bound, right_bound, pow, step_size, noise, drift)).T)\n",
    "imp_context_distribution = ParticleDistribution(dim=6, particles=prior_context_particles, n_particles=N)\n",
    "\n",
    "ray.shutdown()\n",
    "ray.init()\n",
    "\n",
    "# ray.init(address=\"auto\")\n",
    "imp_solver = ppo.PPOTrainer(env=ContextualCliff, config={\n",
    "                                                \"env_config\":  {'context_distribution': imp_context_distribution},\n",
    "                                                \"framework\": \"torch\",  # config to pass to env class\n",
    "                                            })\n",
    "\n",
    "for update_round in range(3):\n",
    "    # burn in training\n",
    "    if update_round == 0:\n",
    "        for i in range(15):\n",
    "            imp_solver.train()\n",
    "\n",
    "    context_history_imp, imp_context_distribution = filter_context(imp_solver,\n",
    "                                       imp_context_distribution,\n",
    "                                       gt_obs_arr,\n",
    "                                       T,\n",
    "                                       N\n",
    "                                       )\n",
    "\n",
    "    fig, ax = plt.subplots()\n",
    "    HIST_BINS = np.linspace(1, 4, 80)\n",
    "    ax.hist(context_history_imp[0][:, 1], HIST_BINS, lw=1,\n",
    "            ec=\"blue\", fc=\"blue\", alpha=0.5)\n",
    "    ax.hist(context_history_imp[-1][:, 1], HIST_BINS, lw=1,\n",
    "            ec=\"red\", fc=\"red\", alpha=0.5)\n",
    "    plt.axvline(x=2, alpha=0.3, color='black', linestyle='--')\n",
    "    plt.legend(['ground truth: 2.0', 'prior', 'posterior'])\n",
    "    ax.set_ylim(top=N / 5)\n",
    "    fig.set_size_inches(12, 8)\n",
    "    plt.title(f'round {update_round}, mean {context_history_imp[-1][:, 1].mean()}')\n",
    "    plt.show()\n",
    "\n",
    "    imp_solver.workers.foreach_worker(\n",
    "                lambda ev: ev.foreach_env(\n",
    "                    lambda env: env.set_task(imp_context_distribution)))\n",
    "    for _ in range(4):\n",
    "        imp_solver.train()\n"
   ]
  },
  {
   "cell_type": "code",
   "execution_count": 18,
   "outputs": [
    {
     "data": {
      "text/plain": "(1, 6)"
     },
     "execution_count": 18,
     "metadata": {},
     "output_type": "execute_result"
    }
   ],
   "source": [
    "imp_context_distribution.sample().shape"
   ],
   "metadata": {
    "collapsed": false,
    "pycharm": {
     "name": "#%%\n"
    }
   }
  },
  {
   "cell_type": "code",
   "execution_count": null,
   "outputs": [],
   "source": [],
   "metadata": {
    "collapsed": false,
    "pycharm": {
     "name": "#%%\n"
    }
   }
  },
  {
   "cell_type": "code",
   "execution_count": null,
   "outputs": [],
   "source": [],
   "metadata": {
    "collapsed": false,
    "pycharm": {
     "name": "#%%\n"
    }
   }
  }
 ],
 "metadata": {
  "kernelspec": {
   "display_name": "Python 3 (ipykernel)",
   "language": "python",
   "name": "python3"
  },
  "language_info": {
   "codemirror_mode": {
    "name": "ipython",
    "version": 3
   },
   "file_extension": ".py",
   "mimetype": "text/x-python",
   "name": "python",
   "nbconvert_exporter": "python",
   "pygments_lexer": "ipython3",
   "version": "3.7.11"
  }
 },
 "nbformat": 4,
 "nbformat_minor": 4
}