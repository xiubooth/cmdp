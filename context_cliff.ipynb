{
 "cells": [
  {
   "cell_type": "code",
   "execution_count": 1,
   "metadata": {
    "collapsed": true
   },
   "outputs": [],
   "source": [
    "import matplotlib.pyplot as plt\n",
    "import numpy as np\n",
    "import ray\n",
    "\n",
    "from mdps.cliff import ContextualCliff\n",
    "from utils.distributions import ConstantDistribution, ParticleDistribution"
   ]
  },
  {
   "cell_type": "code",
   "execution_count": 2,
   "outputs": [],
   "source": [
    "% load_ext autoreload\n",
    "% autoreload 2"
   ],
   "metadata": {
    "collapsed": false,
    "pycharm": {
     "name": "#%%\n"
    }
   }
  },
  {
   "cell_type": "markdown",
   "source": [
    "# Contextual Cartpole\n",
    "\n",
    "This notebook studies using particle filtering to estimate the context parameters of a standard cartpole environment."
   ],
   "metadata": {
    "collapsed": false,
    "pycharm": {
     "name": "#%% md\n"
    }
   }
  },
  {
   "cell_type": "markdown",
   "source": [
    "# Set target\n",
    "\n",
    "We first create a target config, $c$. This will be the $MDP(c)$ the expert uses to generate the observational data."
   ],
   "metadata": {
    "collapsed": false,
    "pycharm": {
     "name": "#%% md\n"
    }
   }
  },
  {
   "cell_type": "code",
   "execution_count": 3,
   "outputs": [],
   "source": [
    "# true (expert) context: (left_bound, right_bound, pow, step_size, noise, drift) =\n",
    "#                       [-1, 1, 2, 0.1, 0.1, 0.05]\n",
    "c = {'context_distribution':\n",
    "         ConstantDistribution(dim=6,\n",
    "                              constant_vector=np.array([-1, 1, 2, 0.1, 0.1, 0.05]))}"
   ],
   "metadata": {
    "collapsed": false,
    "pycharm": {
     "name": "#%%\n"
    }
   }
  },
  {
   "cell_type": "markdown",
   "source": [
    "Train an expert that masters this context."
   ],
   "metadata": {
    "collapsed": false,
    "pycharm": {
     "name": "#%% md\n"
    }
   }
  },
  {
   "cell_type": "code",
   "execution_count": 4,
   "outputs": [
    {
     "name": "stderr",
     "output_type": "stream",
     "text": [
      "2022-02-08 00:27:15,353\tINFO services.py:1340 -- View the Ray dashboard at \u001B[1m\u001B[32mhttp://127.0.0.1:8266\u001B[39m\u001B[22m\n",
      "2022-02-08 00:27:16,619\tINFO ppo.py:167 -- In multi-agent mode, policies will be optimized sequentially by the multi-GPU optimizer. Consider setting simple_optimizer=True if this doesn't work for you.\n",
      "2022-02-08 00:27:16,619\tINFO trainer.py:745 -- Current log_level is WARN. For more information, set 'log_level': 'INFO' / 'DEBUG' or use the -v and -vv flags.\n",
      "2022-02-08 00:27:18,073\tWARNING util.py:57 -- Install gputil for GPU system monitoring.\n"
     ]
    },
    {
     "name": "stdout",
     "output_type": "stream",
     "text": [
      "0 10.173038202102273\n",
      "1 10.867467062668723\n",
      "2 9.96000526629742\n",
      "3 10.860962304248046\n",
      "4 13.552230640093748\n",
      "5 16.146476982373002\n",
      "6 18.016458659928205\n",
      "7 20.024035796062797\n",
      "8 21.432168951029183\n",
      "9 24.085491516756257\n",
      "10 27.16685174519891\n",
      "11 28.828614479237856\n",
      "12 29.116945085404765\n",
      "13 27.649651493216037\n",
      "14 28.71209951239021\n",
      "15 31.458953223218582\n",
      "16 31.749012505268514\n",
      "17 32.636611681118964\n",
      "18 33.41332239037941\n",
      "19 33.879314001624095\n",
      "20 35.233545894757185\n",
      "21 36.873323612497956\n",
      "22 37.05829715304408\n",
      "23 36.01901533722185\n",
      "24 34.306974062862054\n",
      "25 34.64761852614703\n",
      "26 34.54416304955184\n",
      "27 35.67283212049815\n",
      "28 34.98128271263718\n",
      "29 35.37876825553982\n"
     ]
    }
   ],
   "source": [
    "from ray.rllib.agents import ppo\n",
    "\n",
    "ray.shutdown()\n",
    "ray.init()\n",
    "expert = ppo.PPOTrainer(env=ContextualCliff, config={\n",
    "    \"env_config\": c,\n",
    "    \"framework\": \"torch\",  # config to pass to env class\n",
    "})\n",
    "\n",
    "rews = []\n",
    "for eps in range(30):\n",
    "    res = expert.train()\n",
    "    print(eps, res['episode_reward_mean'])\n",
    "    rews += [res['episode_reward_mean']]"
   ],
   "metadata": {
    "collapsed": false,
    "pycharm": {
     "name": "#%%\n"
    }
   }
  },
  {
   "cell_type": "markdown",
   "source": [],
   "metadata": {
    "collapsed": false
   }
  },
  {
   "cell_type": "code",
   "execution_count": 5,
   "outputs": [],
   "source": [
    "# collect expert rollout\n",
    "env = ContextualCliff(config=c)\n",
    "done = False\n",
    "obs = env.reset()\n",
    "# run until episode ends\n",
    "gt_obs_arr = None\n",
    "while not done:\n",
    "    action = expert.compute_single_action(obs)\n",
    "    obs, reward, done, info = env.step(action)\n",
    "    if gt_obs_arr is None:\n",
    "        gt_obs_arr = obs\n",
    "    else:\n",
    "        gt_obs_arr = np.vstack((gt_obs_arr, obs))"
   ],
   "metadata": {
    "collapsed": false,
    "pycharm": {
     "name": "#%%\n"
    }
   }
  },
  {
   "cell_type": "code",
   "execution_count": 6,
   "outputs": [
    {
     "data": {
      "text/plain": "(100, 7)"
     },
     "execution_count": 6,
     "metadata": {},
     "output_type": "execute_result"
    }
   ],
   "source": [
    "gt_obs_arr.shape"
   ],
   "metadata": {
    "collapsed": false,
    "pycharm": {
     "name": "#%%\n"
    }
   }
  },
  {
   "cell_type": "markdown",
   "source": [
    "## Exact context\n",
    "\n",
    "We first train a RL solver only on the correct context for particle filtering. We have already done this so we can directly use the expert solver."
   ],
   "metadata": {
    "collapsed": false,
    "pycharm": {
     "name": "#%% md\n"
    }
   }
  },
  {
   "cell_type": "code",
   "execution_count": 29,
   "outputs": [],
   "source": [
    "# true (expert) context: (left_bound, right_bound, pow, step_size, noise, drift) =\n",
    "#                       [-1, 1, 2, 0.1, 0.1, 0.05]\n",
    "\n",
    "N = 10000\n",
    "T = 100\n",
    "left_bound = np.random.normal(loc=-1, scale=0.01, size=(N,))\n",
    "right_bound = np.random.normal(loc=1, scale=0.01, size=(N,))\n",
    "pow = np.ones((N,)) * 2\n",
    "step_size = np.ones((N,)) * 0.1\n",
    "noise = np.ones((N,)) * 0.1\n",
    "drift = np.random.normal(loc=0.03, scale=0.02, size=(N,))\n",
    "\n",
    "context_particles = np.vstack((left_bound, right_bound, pow, step_size, noise, drift)).T\n",
    "context_particles = np.abs(context_particles)\n",
    "context_distribution = ParticleDistribution(dim=6, particles=context_particles, n_particles=N)"
   ],
   "metadata": {
    "collapsed": false,
    "pycharm": {
     "name": "#%%\n"
    }
   }
  },
  {
   "cell_type": "code",
   "execution_count": 30,
   "outputs": [
    {
     "name": "stdout",
     "output_type": "stream",
     "text": [
      "0 0.031248786384409994\n",
      "1 0.04321198141103502\n",
      "2 0.04647051357027527\n",
      "3 0.046638595890699366\n",
      "4 0.04637528821754171\n",
      "5 0.046490144244903636\n",
      "6 0.04677113274102739\n",
      "7 0.04721992618271268\n",
      "8 0.047617725686675876\n",
      "9 0.04769944659407966\n",
      "10 0.047522821727505445\n",
      "11 0.04743130185816219\n",
      "12 0.0471879868913869\n",
      "13 0.04744138207570747\n",
      "14 0.047531403112474474\n",
      "15 0.04718100609475981\n",
      "16 0.047025944461945565\n",
      "17 0.04668117807281931\n",
      "18 0.04645660276886907\n",
      "19 0.04651225727415135\n",
      "20 0.046248894230906765\n",
      "21 0.046326096872700305\n",
      "22 0.04621923663096069\n",
      "23 0.04624256192594662\n",
      "24 0.04636628955927033\n",
      "25 0.046926463893646665\n",
      "26 0.04739778562646074\n",
      "27 0.04745208521129903\n",
      "28 0.04676053008071133\n",
      "29 0.0464962189192335\n",
      "30 0.046302903068256525\n",
      "31 0.04620894969309065\n",
      "32 0.04545178919387828\n",
      "33 0.04551886099096324\n",
      "34 0.04534259757286984\n",
      "35 0.04536546331580037\n",
      "36 0.04516650517793181\n",
      "37 0.04499894025933572\n",
      "38 0.044695278070102186\n",
      "39 0.04433336310066219\n",
      "40 0.04458640254893128\n",
      "41 0.04469998510972713\n",
      "42 0.043958074896120074\n",
      "43 0.04375503615740229\n",
      "44 0.04328377492455411\n",
      "45 0.04281304827646728\n",
      "46 0.04158980501062646\n",
      "47 0.04135415309314898\n",
      "48 0.041284874783502505\n",
      "49 0.040941101448702624\n",
      "50 0.04069543277580151\n",
      "51 0.040529642776185815\n",
      "52 0.040357757088108986\n",
      "53 0.040217517782470444\n",
      "54 0.03991304977012039\n",
      "55 0.03987380074491746\n",
      "56 0.03982735065136091\n",
      "57 0.04027062205603316\n",
      "58 0.04042312962189684\n",
      "59 0.0405484619369978\n",
      "60 0.04080911982862021\n",
      "61 0.04099991657547501\n",
      "62 0.04086546800063065\n",
      "63 0.04052910765770342\n",
      "64 0.04058936756410249\n",
      "65 0.03990038249685811\n",
      "66 0.039721910660270615\n",
      "67 0.04000746939803015\n",
      "68 0.03975584401141364\n",
      "69 0.03972416975162742\n",
      "70 0.0400858716278531\n",
      "71 0.040119927817892476\n",
      "72 0.040375260838342135\n",
      "73 0.04034441238203752\n",
      "74 0.04052550204292469\n",
      "75 0.040167277182404225\n",
      "76 0.040575045911779684\n",
      "77 0.040817885878421147\n",
      "78 0.04050753127682791\n",
      "79 0.039518487443339544\n",
      "80 0.03875115481701405\n",
      "81 0.038660403096871035\n",
      "82 0.03826532307253802\n",
      "83 0.038321120870380226\n",
      "84 0.038884292160982194\n",
      "85 0.03871710772026605\n",
      "86 0.0380409131443967\n",
      "87 0.03778274805249266\n",
      "88 0.03784557667426668\n",
      "89 0.03792730482384439\n",
      "90 0.03767894675998597\n",
      "91 0.03842260434017187\n",
      "92 0.03841488705319599\n",
      "93 0.037994864568294144\n",
      "94 0.038031844900032044\n",
      "95 0.037811283222134895\n",
      "96 0.037922710840744375\n",
      "97 0.03780973336651403\n",
      "98 0.037853717658667796\n",
      "99 0.037927312789863325\n"
     ]
    }
   ],
   "source": [
    "solver = expert\n",
    "state_arr = np.zeros((N,))\n",
    "action_arr = np.zeros((N,))\n",
    "context_history = []\n",
    "for t in range(T):\n",
    "    # we only use the first 5 steps of the cartpole steps to reduce effect of different episode lengths\n",
    "    qs = np.zeros((N,))\n",
    "    for n in range(N):\n",
    "        context = context_distribution.particles[n]\n",
    "        if context[4] < 0:\n",
    "            qs[n] = 0\n",
    "            state_arr[n] = np.copy(env.mdp.x)\n",
    "            continue\n",
    "        c_local = {'context_distribution':\n",
    "                       ConstantDistribution(dim=6,\n",
    "                                            constant_vector=context)}\n",
    "        env = ContextualCliff(config=c_local)\n",
    "        done = False\n",
    "        obs = env.reset()\n",
    "        if t > 0:\n",
    "            env.mdp.x = state_arr[n]\n",
    "            obs = np.concatenate((np.array([env.mdp.x]), context), axis=0).flatten()\n",
    "        action = solver.compute_single_action(obs)\n",
    "        obs, reward, done, info = env.step(action)\n",
    "        # estimate likelihood if r >= 1\n",
    "        if t >= 1:\n",
    "            q = env.likelihood(gt_obs_arr[t - 1], action_arr[n], obs)\n",
    "            qs[n] = q\n",
    "        state_arr[n] = np.copy(env.mdp.x)\n",
    "        action_arr[n] = action\n",
    "    if t >= 1:\n",
    "        qs = qs / qs.sum()\n",
    "        resample_index = context_distribution.resample_particles_from_probability(p=qs)\n",
    "        ptemp = context_distribution.particles\n",
    "        pnoise = np.random.normal(loc=0, scale=ptemp.std(axis=0), size=ptemp.shape) * 0.05\n",
    "        context_distribution.particles += pnoise\n",
    "        state_arr = state_arr[resample_index]\n",
    "        action_arr = action_arr[resample_index]\n",
    "    print(t, context_distribution.particles[:, -1].mean())\n",
    "    context_history += [context_distribution.particles.copy()]"
   ],
   "metadata": {
    "collapsed": false,
    "pycharm": {
     "name": "#%%\n"
    }
   }
  },
  {
   "cell_type": "code",
   "execution_count": 31,
   "outputs": [
    {
     "data": {
      "text/plain": "<Figure size 432x288 with 1 Axes>",
      "image/png": "[encoded data removed]"
     },
     "metadata": {
      "needs_background": "light"
     },
     "output_type": "display_data"
    }
   ],
   "source": [
    "from matplotlib import animation\n",
    "\n",
    "HIST_BINS = np.linspace(-0.02, 0.10, 120)\n",
    "\n",
    "\n",
    "def prepare_animation(bar_container_):\n",
    "    def animate(frame_number, data=context_history):\n",
    "        # simulate new data coming in\n",
    "        x = data[frame_number][:, -1]\n",
    "        n, _ = np.histogram(x, HIST_BINS)\n",
    "        plt.title(f'{frame_number}, posterior mean: {round(x.mean(), 5)}')\n",
    "        for count, rect in zip(n, bar_container_.patches):\n",
    "            rect.set_height(count)\n",
    "        return bar_container_.patches\n",
    "\n",
    "    return animate\n",
    "\n",
    "\n",
    "fig, ax = plt.subplots()\n",
    "_, _, bar_container = ax.hist(context_history[0][:, -1], HIST_BINS, lw=1,\n",
    "                              ec=\"cyan\", fc=\"blue\", alpha=0.5)\n",
    "ax.set_ylim(top=2000)  # set safe limit to ensure that all data is visible.\n",
    "\n",
    "ani = animation.FuncAnimation(fig, prepare_animation(bar_container), len(context_history),\n",
    "                              repeat=True, blit=False, interval=100, repeat_delay=500)\n",
    "ani.save('small.mp4', dpi=300)\n",
    "plt.show()"
   ],
   "metadata": {
    "collapsed": false,
    "pycharm": {
     "name": "#%%\n"
    }
   }
  },
  {
   "cell_type": "markdown",
   "source": [
    "# Mis-specified context\n",
    "\n",
    "We also see what happens if we train a solver only on an MDP $MDP(c_{miss})$, where $c_{miss}$ is a mis-specified context."
   ],
   "metadata": {
    "collapsed": false
   }
  },
  {
   "cell_type": "code",
   "execution_count": 35,
   "outputs": [
    {
     "name": "stderr",
     "output_type": "stream",
     "text": [
      "2022-02-07 13:48:02,099\tINFO services.py:1340 -- View the Ray dashboard at \u001B[1m\u001B[32mhttp://127.0.0.1:8265\u001B[39m\u001B[22m\n",
      "2022-02-07 13:48:04,570\tWARNING util.py:57 -- Install gputil for GPU system monitoring.\n"
     ]
    },
    {
     "name": "stdout",
     "output_type": "stream",
     "text": [
      "0 16.520661157024794\n",
      "1 29.116788321167885\n",
      "2 46.22\n",
      "3 68.62\n",
      "4 90.35\n",
      "5 115.09\n",
      "6 130.48\n",
      "7 151.13\n",
      "8 172.98\n",
      "9 187.48\n",
      "10 204.04\n",
      "11 216.97\n",
      "12 243.83\n",
      "13 262.72\n",
      "14 293.09\n",
      "15 312.45\n",
      "16 350.85\n",
      "17 376.13\n",
      "18 390.21\n",
      "19 418.78\n",
      "20 473.69\n",
      "21 486.92\n",
      "22 525.33\n",
      "23 525.33\n",
      "24 551.49\n",
      "25 649.67\n",
      "26 688.52\n",
      "27 688.52\n",
      "28 718.98\n",
      "29 718.98\n"
     ]
    }
   ],
   "source": [
    "# We try a short cartpole on a planet with g=5.0. We also slightly reduce noise to 0.1.\n",
    "c_mis = {'context_distribution':\n",
    "             ConstantDistribution(dim=5,\n",
    "                                  constant_vector=np.array([5, 0.5, 0.1, 0.5, 0.1, 1.]))}\n",
    "\n",
    "ray.shutdown()\n",
    "ray.init()\n",
    "mis_solver = ppo.PPOTrainer(env=ContextualCliff, config={\n",
    "    \"env_config\": c_mis,\n",
    "    \"framework\": \"torch\",  # config to pass to env class\n",
    "})\n",
    "\n",
    "for eps in range(30):\n",
    "    res = mis_solver.train()\n",
    "    print(eps, res['episode_reward_mean'])"
   ],
   "metadata": {
    "collapsed": false,
    "pycharm": {
     "name": "#%%\n"
    }
   }
  },
  {
   "cell_type": "code",
   "execution_count": null,
   "outputs": [],
   "source": [],
   "metadata": {
    "collapsed": false,
    "pycharm": {
     "name": "#%%\n"
    }
   }
  }
 ],
 "metadata": {
  "kernelspec": {
   "display_name": "Python 3",
   "language": "python",
   "name": "python3"
  },
  "language_info": {
   "codemirror_mode": {
    "name": "ipython",
    "version": 2
   },
   "file_extension": ".py",
   "mimetype": "text/x-python",
   "name": "python",
   "nbconvert_exporter": "python",
   "pygments_lexer": "ipython2",
   "version": "2.7.6"
  }
 },
 "nbformat": 4,
 "nbformat_minor": 0
}